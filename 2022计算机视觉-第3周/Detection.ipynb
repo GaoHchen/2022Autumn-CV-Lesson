{
 "cells": [
  {
   "cell_type": "code",
   "execution_count": 1,
   "metadata": {},
   "outputs": [],
   "source": [
    "import cv2\n",
    "import numpy as np\n",
    "import matplotlib.pyplot as plt\n",
    "import imageio"
   ]
  },
  {
   "cell_type": "code",
   "execution_count": 13,
   "metadata": {},
   "outputs": [],
   "source": [
    "def detection(img):\n",
    "    img_gray = cv2.cvtColor(img, cv2.COLOR_BGR2GRAY)  #transform the rgb-scale to gray-scale\n",
    "    detect_object = cv2.CascadeClassifier(cv2.data.haarcascades + \"haarcascade_frontalface_default.xml\") #define detect class\n",
    "    positions = detect_object.detectMultiScale(img_gray) #detect faces in imgs\n",
    "    for x, y, width, height in positions:\n",
    "    # blue, yellow,red thickness to set the line weight\n",
    "        cv2.rectangle(img, (x, y), (x + width, y + height), color=(255, 255, 255), thickness=4)\n",
    "        cv2.putText(img, 'A Face', (x+10,y-10),cv2.FONT_HERSHEY_SIMPLEX, 0.8, (255,255,255),2)\n",
    "    cv2.imshow('face detect', img)\n",
    "    cv2.imwrite(\"detect.png\", img)"
   ]
  },
  {
   "cell_type": "code",
   "execution_count": 14,
   "metadata": {},
   "outputs": [],
   "source": [
    "img = cv2.imread(\"Lena.png\")\n",
    "detection(img)"
   ]
  },
  {
   "cell_type": "code",
   "execution_count": null,
   "metadata": {},
   "outputs": [],
   "source": []
  }
 ],
 "metadata": {
  "kernelspec": {
   "display_name": "Python 3.8.8 ('base')",
   "language": "python",
   "name": "python3"
  },
  "language_info": {
   "codemirror_mode": {
    "name": "ipython",
    "version": 3
   },
   "file_extension": ".py",
   "mimetype": "text/x-python",
   "name": "python",
   "nbconvert_exporter": "python",
   "pygments_lexer": "ipython3",
   "version": "3.8.8"
  },
  "orig_nbformat": 4,
  "vscode": {
   "interpreter": {
    "hash": "40d3a090f54c6569ab1632332b64b2c03c39dcf918b08424e98f38b5ae0af88f"
   }
  }
 },
 "nbformat": 4,
 "nbformat_minor": 2
}
