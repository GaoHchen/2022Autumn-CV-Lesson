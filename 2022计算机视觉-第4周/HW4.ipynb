{
 "cells": [
  {
   "cell_type": "code",
   "execution_count": 62,
   "metadata": {},
   "outputs": [],
   "source": [
    "import torch"
   ]
  },
  {
   "cell_type": "code",
   "execution_count": 63,
   "metadata": {},
   "outputs": [
    {
     "name": "stdout",
     "output_type": "stream",
     "text": [
      "tensor([[-1.1258, -1.1524, -0.2506, -0.4339],\n",
      "        [ 0.8487,  0.6920, -0.3160, -2.1152],\n",
      "        [ 0.3223, -1.2633,  0.3500,  0.3081],\n",
      "        [ 0.1198,  1.2377,  1.1168, -0.2473],\n",
      "        [-1.3527, -1.6959,  0.5667,  0.7935],\n",
      "        [ 0.5988, -1.5551, -0.3414,  1.8530],\n",
      "        [-0.2159, -0.7425,  0.5627,  0.2596],\n",
      "        [-0.1740, -0.6787,  0.9383,  0.4889],\n",
      "        [ 1.2032,  0.0845, -1.2001, -0.0048],\n",
      "        [-0.5181, -0.3067, -1.5810,  1.7066]], requires_grad=True)\n",
      "tensor([[ 1.5091,  2.0820,  1.7067,  2.3804],\n",
      "        [-1.1256, -0.3170, -1.0925, -0.0852],\n",
      "        [ 0.3276, -0.7607, -1.5991,  0.0185],\n",
      "        [-0.7504,  0.1854,  0.6211,  0.6382],\n",
      "        [-0.0033, -0.5344,  1.1687,  0.3945],\n",
      "        [ 1.9415,  0.7915, -0.0203, -0.4372],\n",
      "        [-0.2188, -2.4351, -0.0729, -0.0340],\n",
      "        [ 0.9625,  0.3492, -0.9215, -0.0562],\n",
      "        [-0.6227, -0.4637,  1.9218, -0.4025],\n",
      "        [ 0.1239,  1.1648,  0.9234,  1.3873]], requires_grad=True)\n",
      "tensor([[ 0.2055, -0.4503, -0.5731, -0.5554],\n",
      "        [ 0.5943,  1.5419,  0.5073, -0.5910],\n",
      "        [-1.3253,  0.1886, -0.0691, -0.4949],\n",
      "        [-1.4959, -0.1938,  0.4455,  1.3253]], requires_grad=True)\n"
     ]
    }
   ],
   "source": [
    "import torch\n",
    "torch.manual_seed(0)\n",
    "\n",
    "x = torch.randn(10,4, requires_grad=True)\n",
    "W = torch.randn(4,4, requires_grad=True)\n",
    "y = torch.randn(10,4, requires_grad=True)\n",
    "\n",
    "\n",
    "print(x)\n",
    "print(y)\n",
    "print(W)"
   ]
  },
  {
   "cell_type": "code",
   "execution_count": 64,
   "metadata": {},
   "outputs": [
    {
     "name": "stdout",
     "output_type": "stream",
     "text": [
      "tensor(99.9048, grad_fn=<SumBackward0>)\n"
     ]
    }
   ],
   "source": [
    "z = x.mm(W)\n",
    "y_hat = torch.clamp(z, 0)\n",
    "f = (y_hat - y).pow(2).sum()\n",
    "print(f)"
   ]
  },
  {
   "cell_type": "code",
   "execution_count": 65,
   "metadata": {},
   "outputs": [
    {
     "name": "stdout",
     "output_type": "stream",
     "text": [
      "tensor([[ 2.8885e+00,  4.1639e+00,  3.4134e+00,  3.0501e+00],\n",
      "        [-1.0589e+01, -2.7045e+00, -2.1849e+00, -1.7039e-01],\n",
      "        [ 6.5523e-01, -1.5214e+00, -3.1982e+00, -1.5687e+00],\n",
      "        [-1.5009e+00, -3.8551e+00,  4.9843e-01,  1.2764e+00],\n",
      "        [-6.6077e-03, -1.0689e+00,  1.8791e+00, -4.2604e+00],\n",
      "        [ 3.8829e+00,  1.5830e+00, -4.0504e-02, -7.2968e+00],\n",
      "        [-4.3767e-01, -4.8701e+00, -1.4583e-01, -1.3166e+00],\n",
      "        [ 1.9250e+00,  6.9834e-01, -1.8429e+00, -1.4750e+00],\n",
      "        [-5.0359e+00, -9.2744e-01,  3.8436e+00, -8.0509e-01],\n",
      "        [ 2.4780e-01,  2.3296e+00, -1.7491e-01, -4.2519e+00]])\n",
      "tensor([[ 18.2980,   2.7573,   2.3914,  -0.1974],\n",
      "        [ 11.0817,   6.6428,   2.5163, -20.3225],\n",
      "        [ -8.6662,   3.4506,  -1.8979,  -3.3608],\n",
      "        [-21.1681,  -6.6739,  -1.0693,  27.0278]])\n",
      "tensor([[  1.1002,   0.0860,   5.3377,   0.2788],\n",
      "        [  0.9583,  10.4633, -13.5235, -16.3639],\n",
      "        [ -0.8712,  -0.9272,  -0.7764,   2.0790],\n",
      "        [ -1.4504,   5.6914,   0.7613,  -0.9693],\n",
      "        [ -1.2892,  -3.4714,  -1.9788,   4.8091],\n",
      "        [ -4.0523,  -4.3127,  -3.6114,   9.6703],\n",
      "        [ -0.7312,  -0.7782,  -0.6516,   1.7449],\n",
      "        [ -0.8191,  -0.8718,  -0.7300,   1.9547],\n",
      "        [  1.0350,   2.9930,  -6.6743,  -7.5333],\n",
      "        [ -2.4616,  -2.4243,  -2.1164,   5.7128]])\n"
     ]
    }
   ],
   "source": [
    "f.backward()\n",
    "print(y.grad)\n",
    "print(W.grad)\n",
    "print(x.grad)"
   ]
  },
  {
   "cell_type": "markdown",
   "metadata": {},
   "source": [
    "验证y求导是否相同"
   ]
  },
  {
   "cell_type": "code",
   "execution_count": 66,
   "metadata": {},
   "outputs": [
    {
     "name": "stdout",
     "output_type": "stream",
     "text": [
      "tensor([[ 2.8885e+00,  4.1639e+00,  3.4134e+00,  3.0501e+00],\n",
      "        [-1.0589e+01, -2.7045e+00, -2.1849e+00, -1.7039e-01],\n",
      "        [ 6.5523e-01, -1.5214e+00, -3.1982e+00, -1.5687e+00],\n",
      "        [-1.5009e+00, -3.8551e+00,  4.9843e-01,  1.2764e+00],\n",
      "        [-6.6077e-03, -1.0689e+00,  1.8791e+00, -4.2604e+00],\n",
      "        [ 3.8829e+00,  1.5830e+00, -4.0504e-02, -7.2968e+00],\n",
      "        [-4.3767e-01, -4.8701e+00, -1.4583e-01, -1.3166e+00],\n",
      "        [ 1.9250e+00,  6.9834e-01, -1.8429e+00, -1.4750e+00],\n",
      "        [-5.0359e+00, -9.2744e-01,  3.8436e+00, -8.0509e-01],\n",
      "        [ 2.4780e-01,  2.3296e+00, -1.7491e-01, -4.2519e+00]],\n",
      "       grad_fn=<MulBackward0>)\n"
     ]
    }
   ],
   "source": [
    "y_grad_todo = -2 * (y_hat - y)\n",
    "y_grad_gt = y.grad\n",
    "print(y_grad_todo)"
   ]
  },
  {
   "cell_type": "code",
   "execution_count": 81,
   "metadata": {},
   "outputs": [
    {
     "name": "stdout",
     "output_type": "stream",
     "text": [
      "tensor([[1., 0., 0., 1.],\n",
      "        [1., 1., 0., 0.],\n",
      "        [0., 0., 0., 1.],\n",
      "        [0., 1., 1., 0.],\n",
      "        [0., 0., 1., 1.],\n",
      "        [0., 0., 0., 1.],\n",
      "        [0., 0., 0., 1.],\n",
      "        [0., 0., 0., 1.],\n",
      "        [1., 0., 0., 0.],\n",
      "        [0., 0., 1., 1.]])\n"
     ]
    }
   ],
   "source": [
    "import numpy as np\n",
    "mask = torch.mm(x,W).detach().numpy()\n",
    "mask[mask>0]=1\n",
    "mask[mask<0]=0\n",
    "mask = torch.from_numpy(mask)\n",
    "print(mask)"
   ]
  },
  {
   "cell_type": "code",
   "execution_count": 89,
   "metadata": {},
   "outputs": [
    {
     "name": "stdout",
     "output_type": "stream",
     "text": [
      "tensor([[  1.1002,   0.0860,   5.3377,   0.2788],\n",
      "        [  0.9583,  10.4633, -13.5235, -16.3639],\n",
      "        [ -0.8712,  -0.9272,  -0.7764,   2.0790],\n",
      "        [ -1.4504,   5.6914,   0.7613,  -0.9693],\n",
      "        [ -1.2892,  -3.4714,  -1.9788,   4.8091],\n",
      "        [ -4.0523,  -4.3127,  -3.6114,   9.6703],\n",
      "        [ -0.7312,  -0.7782,  -0.6516,   1.7449],\n",
      "        [ -0.8191,  -0.8718,  -0.7300,   1.9547],\n",
      "        [  1.0350,   2.9930,  -6.6743,  -7.5333],\n",
      "        [ -2.4616,  -2.4243,  -2.1164,   5.7128]], grad_fn=<MulBackward0>)\n"
     ]
    }
   ],
   "source": [
    "x_grad_todo = 2 * torch.mm((x.mm(W)-y)*mask, W.T)\n",
    "x_grad_gt = x.grad\n",
    "print(x_grad_todo)"
   ]
  },
  {
   "cell_type": "code",
   "execution_count": 93,
   "metadata": {},
   "outputs": [
    {
     "name": "stdout",
     "output_type": "stream",
     "text": [
      "tensor([[ 18.2980,   2.7573,   2.3914,  -0.1974],\n",
      "        [ 11.0817,   6.6428,   2.5163, -20.3225],\n",
      "        [ -8.6662,   3.4506,  -1.8979,  -3.3608],\n",
      "        [-21.1681,  -6.6739,  -1.0693,  27.0278]], grad_fn=<MulBackward0>)\n"
     ]
    }
   ],
   "source": [
    "W_grad_todo = 2 * torch.mm(x.T, (x.mm(W)-y)*mask)\n",
    "W_grad_gt = W.grad\n",
    "print(W_grad_todo)"
   ]
  },
  {
   "cell_type": "code",
   "execution_count": 94,
   "metadata": {},
   "outputs": [
    {
     "name": "stdout",
     "output_type": "stream",
     "text": [
      "y_grad_gt = y_grad_todo ? True\n",
      "x_grad_gt = x_grad_todo ? True\n",
      "W_grad_gt = W_grad_todo ? True\n"
     ]
    }
   ],
   "source": [
    "print(\"y_grad_gt = y_grad_todo ?\", torch.equal(y_grad_gt,y_grad_todo))\n",
    "print(\"x_grad_gt = x_grad_todo ?\", torch.equal(x_grad_gt,x_grad_todo))\n",
    "print(\"W_grad_gt = W_grad_todo ?\", torch.equal(W_grad_gt,W_grad_todo))"
   ]
  },
  {
   "cell_type": "code",
   "execution_count": null,
   "metadata": {},
   "outputs": [],
   "source": []
  }
 ],
 "metadata": {
  "kernelspec": {
   "display_name": "Python 3.8.13 ('mps')",
   "language": "python",
   "name": "python3"
  },
  "language_info": {
   "codemirror_mode": {
    "name": "ipython",
    "version": 3
   },
   "file_extension": ".py",
   "mimetype": "text/x-python",
   "name": "python",
   "nbconvert_exporter": "python",
   "pygments_lexer": "ipython3",
   "version": "3.8.13"
  },
  "orig_nbformat": 4,
  "vscode": {
   "interpreter": {
    "hash": "7d2a7cdaa3147cfe62b452d20213d10d6c9fced858ab295933fec9aa2167f343"
   }
  }
 },
 "nbformat": 4,
 "nbformat_minor": 2
}
